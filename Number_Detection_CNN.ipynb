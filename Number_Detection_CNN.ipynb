{
  "nbformat": 4,
  "nbformat_minor": 0,
  "metadata": {
    "colab": {
      "name": "Untitled1.ipynb",
      "provenance": [],
      "authorship_tag": "ABX9TyO89Q+Go4LnysxiDDa2pQnV",
      "include_colab_link": true
    },
    "kernelspec": {
      "name": "python3",
      "display_name": "Python 3"
    },
    "language_info": {
      "name": "python"
    }
  },
  "cells": [
    {
      "cell_type": "markdown",
      "metadata": {
        "id": "view-in-github",
        "colab_type": "text"
      },
      "source": [
        "<a href=\"https://colab.research.google.com/github/konstihengge/Tensorflow_tutorial/blob/main/Number_Detection_CNN.ipynb\" target=\"_parent\"><img src=\"https://colab.research.google.com/assets/colab-badge.svg\" alt=\"Open In Colab\"/></a>"
      ]
    },
    {
      "cell_type": "code",
      "metadata": {
        "colab": {
          "base_uri": "https://localhost:8080/"
        },
        "id": "9kWDz0JmmEEm",
        "outputId": "4844241c-8b81-408f-e803-40c8958a4401"
      },
      "source": [
        "from tensorflow.keras.datasets import mnist\n",
        "from tensorflow.keras.utils import to_categorical\n",
        "\n",
        "(train_images, train_labels), (test_images, test_labels) = mnist.load_data()\n",
        "print(\"Shape Trainingsdaten: {}\".format(train_images.shape))\n",
        "print(\"Dimension Bild Nr. 5: {}\".format(train_images[5].shape))\n",
        "\n",
        "train_images = train_images.reshape((60000, 28, 28, 1))\n",
        "train_images = train_images.astype('float32')\n",
        "train_images /= 255\n",
        "\n",
        "test_images = test_images.reshape((10000, 28, 28, 1))\n",
        "test_images = test_images.astype('float32')\n",
        "test_images /= 255\n",
        "\n",
        "train_labels = to_categorical(train_labels)\n",
        "test_labels = to_categorical(test_labels)\n",
        "\n",
        "NrTrainimages = train_images.shape[0]\n",
        "NrTestimages = test_images.shape[0]\n",
        "\n",
        "print(\"Trainingsdatensatz:{}\".format(train_images.shape))\n",
        "print(\"Testdatensatz:{}\".format(test_images.shape))\n",
        "print(\"Wir haben {} Trainingsbilder und {} Testbilder.\".format(NrTrainimages,NrTestimages))"
      ],
      "execution_count": 27,
      "outputs": [
        {
          "output_type": "stream",
          "text": [
            "Shape Trainingsdaten: (60000, 28, 28)\n",
            "Dimension Bild Nr. 5: (28, 28)\n",
            "Trainingsdatensatz:(60000, 28, 28, 1)\n",
            "Testdatensatz:(10000, 28, 28, 1)\n",
            "Wir haben 60000 Trainingsbilder und 10000 Testbilder.\n"
          ],
          "name": "stdout"
        }
      ]
    },
    {
      "cell_type": "code",
      "metadata": {
        "colab": {
          "base_uri": "https://localhost:8080/",
          "height": 279
        },
        "id": "_rSIg1w_p92l",
        "outputId": "15c4f329-5df8-4e7a-8c32-52f427e9fb8c"
      },
      "source": [
        "%matplotlib inline\n",
        "import matplotlib.pyplot as plt\n",
        "import random\n",
        "\n",
        "randindex = random.randint(0, 60000)\n",
        "plttitle = \"Trainingsbild Nr. {} \\n Klasse: {}\".format(randindex, train_labels[randindex])\n",
        "\n",
        "plt.imshow(train_images[randindex].reshape(28,28), cmap='gray')\n",
        "plt.title(plttitle)\n",
        "plt.axis('off')\n",
        "plt.show()"
      ],
      "execution_count": 45,
      "outputs": [
        {
          "output_type": "display_data",
          "data": {
            "image/png": "[encoded data removed]",
            "text/plain": [
              "<Figure size 432x288 with 1 Axes>"
            ]
          },
          "metadata": {
            "tags": [],
            "needs_background": "light"
          }
        }
      ]
    },
    {
      "cell_type": "code",
      "metadata": {
        "colab": {
          "base_uri": "https://localhost:8080/"
        },
        "id": "I9C-uRLJq29M",
        "outputId": "8605bb07-0890-498b-d653-e63d891b2b59"
      },
      "source": [
        "import os\n",
        "import numpy as np\n",
        "from tensorflow.keras.callbacks import TensorBoard\n",
        "from tensorflow.keras.models import Sequential\n",
        "from tensorflow.keras.layers import Dense, Dropout, Flatten\n",
        "from tensorflow.keras.layers import Conv2D, MaxPooling2D\n",
        "from tensorflow.keras import backend as K\n",
        "\n",
        "\n",
        "#Bestimmung des Formats der Eingabedaten\n",
        "mnist_inputshape = train_images.shape[1:4]\n",
        "# Die Netzwerkarchitektur\n",
        "model = Sequential()\n",
        "# Kodierungsblock\n",
        "model.add(Conv2D(32, kernel_size=(5,5),\n",
        "activation = 'relu',\n",
        "input_shape=mnist_inputshape))\n",
        "model.add(MaxPooling2D(pool_size=(2,2)))\n",
        "# Conv_Block 2\n",
        "model.add(Conv2D(64, kernel_size=(5,5),activation= 'relu'))\n",
        "model.add(MaxPooling2D(pool_size=(2,2)))\n",
        "model.add(Dropout(0.5))\n",
        "# Prädiktionsblock\n",
        "model.add(Flatten())\n",
        "model.add(Dense(128, activation='relu', name='features'))\n",
        "model.add(Dropout(0.5))\n",
        "model.add(Dense(64, activation='relu'))\n",
        "model.add(Dense(10,activation='softmax'))\n",
        "model.summary()"
      ],
      "execution_count": 20,
      "outputs": [
        {
          "output_type": "stream",
          "text": [
            "Model: \"sequential\"\n",
            "_________________________________________________________________\n",
            "Layer (type)                 Output Shape              Param #   \n",
            "=================================================================\n",
            "conv2d (Conv2D)              (None, 24, 24, 32)        832       \n",
            "_________________________________________________________________\n",
            "max_pooling2d (MaxPooling2D) (None, 12, 12, 32)        0         \n",
            "_________________________________________________________________\n",
            "conv2d_1 (Conv2D)            (None, 8, 8, 64)          51264     \n",
            "_________________________________________________________________\n",
            "max_pooling2d_1 (MaxPooling2 (None, 4, 4, 64)          0         \n",
            "_________________________________________________________________\n",
            "dropout (Dropout)            (None, 4, 4, 64)          0         \n",
            "_________________________________________________________________\n",
            "flatten (Flatten)            (None, 1024)              0         \n",
            "_________________________________________________________________\n",
            "features (Dense)             (None, 128)               131200    \n",
            "_________________________________________________________________\n",
            "dropout_1 (Dropout)          (None, 128)               0         \n",
            "_________________________________________________________________\n",
            "dense (Dense)                (None, 64)                8256      \n",
            "_________________________________________________________________\n",
            "dense_1 (Dense)              (None, 10)                650       \n",
            "=================================================================\n",
            "Total params: 192,202\n",
            "Trainable params: 192,202\n",
            "Non-trainable params: 0\n",
            "_________________________________________________________________\n"
          ],
          "name": "stdout"
        }
      ]
    },
    {
      "cell_type": "code",
      "metadata": {
        "id": "Id6lh5uFuKtg"
      },
      "source": [
        "# Verlsutfunktion und Optimierung\n",
        "# Verlustunktion ist die Categorical Cross-Entropy\n",
        "# Als Optimierungsverfahen wird der Adam-Optimierer verwendet\n",
        "model.compile(loss='categorical_crossentropy',\n",
        "optimizer='Adam',\n",
        "metrics=['accuracy'])"
      ],
      "execution_count": 21,
      "outputs": []
    },
    {
      "cell_type": "code",
      "metadata": {
        "colab": {
          "base_uri": "https://localhost:8080/"
        },
        "id": "uSM6qdmevGK0",
        "outputId": "9e68316f-f9ac-4239-bf62-1516a8a95eb8"
      },
      "source": [
        "#Training\n",
        "#Trainigsepoche besteht aus der Präsentation eines Trainingsdatensatzes und Anpasssung des Modells\n",
        "#Anzahl an Trainingsepochen gibt an, wie oft wir dem Netz die Trainingsdaten präsentieren\n",
        "#Batch Gradient descent: für eine Trainingsepoche den gesamten Datensatz präsentieren und das Modell erst danach aktualisieren\n",
        "#Mini-Batch Gradient Descent: präsentieren Netz nur gewisse Anzahl an Trainigsdaten und modifizieren erst dannn das Netzmodell (verändern die Gewichte)\n",
        "\n",
        "# TensorBoard - Vorbereitung\n",
        "LOGDIR = \"logs\"\n",
        "my_tensorboard = TensorBoard(log_dir = LOGDIR,\n",
        "histogram_freq=0,\n",
        "write_graph=True,\n",
        "write_images=True)\n",
        "# Hyperparameter\n",
        "my_batch_size = 128\n",
        "my_num_classes = 10\n",
        "my_epochs = 12\n",
        "history = model.fit(train_images, train_labels,\n",
        "batch_size=my_batch_size,\n",
        "callbacks=[my_tensorboard],\n",
        "epochs=my_epochs,\n",
        "verbose=1,\n",
        "validation_data=(test_images, test_labels))"
      ],
      "execution_count": 29,
      "outputs": [
        {
          "output_type": "stream",
          "text": [
            "Epoch 1/12\n",
            "469/469 [==============================] - 62s 130ms/step - loss: 0.3823 - accuracy: 0.8769 - val_loss: 0.0628 - val_accuracy: 0.9792\n",
            "Epoch 2/12\n",
            "469/469 [==============================] - 60s 128ms/step - loss: 0.1169 - accuracy: 0.9654 - val_loss: 0.0394 - val_accuracy: 0.9862\n",
            "Epoch 3/12\n",
            "469/469 [==============================] - 60s 128ms/step - loss: 0.0888 - accuracy: 0.9731 - val_loss: 0.0307 - val_accuracy: 0.9897\n",
            "Epoch 4/12\n",
            "469/469 [==============================] - 60s 127ms/step - loss: 0.0712 - accuracy: 0.9794 - val_loss: 0.0336 - val_accuracy: 0.9890\n",
            "Epoch 5/12\n",
            "469/469 [==============================] - 60s 128ms/step - loss: 0.0643 - accuracy: 0.9812 - val_loss: 0.0239 - val_accuracy: 0.9918\n",
            "Epoch 6/12\n",
            "469/469 [==============================] - 59s 127ms/step - loss: 0.0579 - accuracy: 0.9824 - val_loss: 0.0202 - val_accuracy: 0.9932\n",
            "Epoch 7/12\n",
            "469/469 [==============================] - 61s 130ms/step - loss: 0.0525 - accuracy: 0.9837 - val_loss: 0.0246 - val_accuracy: 0.9913\n",
            "Epoch 8/12\n",
            "469/469 [==============================] - 60s 128ms/step - loss: 0.0503 - accuracy: 0.9852 - val_loss: 0.0214 - val_accuracy: 0.9932\n",
            "Epoch 9/12\n",
            "469/469 [==============================] - 60s 128ms/step - loss: 0.0446 - accuracy: 0.9866 - val_loss: 0.0203 - val_accuracy: 0.9928\n",
            "Epoch 10/12\n",
            "469/469 [==============================] - 60s 127ms/step - loss: 0.0401 - accuracy: 0.9881 - val_loss: 0.0224 - val_accuracy: 0.9926\n",
            "Epoch 11/12\n",
            "469/469 [==============================] - 60s 128ms/step - loss: 0.0408 - accuracy: 0.9880 - val_loss: 0.0212 - val_accuracy: 0.9935\n",
            "Epoch 12/12\n",
            "469/469 [==============================] - 60s 128ms/step - loss: 0.0387 - accuracy: 0.9882 - val_loss: 0.0191 - val_accuracy: 0.9933\n"
          ],
          "name": "stdout"
        }
      ]
    },
    {
      "cell_type": "code",
      "metadata": {
        "colab": {
          "base_uri": "https://localhost:8080/"
        },
        "id": "c8dSuRcd3QZ2",
        "outputId": "bf34a473-f9c2-43b4-f196-0117d2cec429"
      },
      "source": [
        "# GEnauigkeit und die Verlustfunktion \n",
        "\n",
        "score = model.evaluate(test_images, test_labels)\n",
        "print('Test Verlust:', score[0])\n",
        "print('Test Genauigkeit:', score[1])"
      ],
      "execution_count": 30,
      "outputs": [
        {
          "output_type": "stream",
          "text": [
            "313/313 [==============================] - 3s 10ms/step - loss: 0.0191 - accuracy: 0.9933\n",
            "Test Verlust: 0.019121862947940826\n",
            "Test Genauigkeit: 0.9933000206947327\n"
          ],
          "name": "stdout"
        }
      ]
    },
    {
      "cell_type": "code",
      "metadata": {
        "id": "1BtckX_r3ywP"
      },
      "source": [
        "#Abspeichern der Netzwerkarchitektur mit den trainierten Gewichtungen\n",
        "from tensorflow.keras import models\n",
        "\n",
        "model.save('SimpleCNN_MNIST.h5')"
      ],
      "execution_count": 34,
      "outputs": []
    },
    {
      "cell_type": "code",
      "metadata": {
        "colab": {
          "base_uri": "https://localhost:8080/"
        },
        "id": "7Ik9xGXk4Q-J",
        "outputId": "7f0c43a7-f77f-4ebc-885f-ad5c89a05a7a"
      },
      "source": [
        "from tensorflow.keras import models\n",
        "modellverzeichnis = 'models'\n",
        "# Speichern des Modells im TensorFlow-SavedModel Format\n",
        "model.save(modellverzeichnis, save_format = 'tf')"
      ],
      "execution_count": 37,
      "outputs": [
        {
          "output_type": "stream",
          "text": [
            "INFO:tensorflow:Assets written to: models/assets\n"
          ],
          "name": "stdout"
        }
      ]
    },
    {
      "cell_type": "code",
      "metadata": {
        "id": "5K6QPapW4jo_"
      },
      "source": [
        "from tensorflow.keras.models import load_model\n",
        "modellverzeichnis = 'models'\n",
        "# Laden des HDF5-Modells (h5)\n",
        "# h5 ist die typische Dateierweiterung für dieses Format\n",
        "# alles wird in einer Datei abgespeichert\n",
        "new_model_h5 = load_model('SimpleCNN_MNIST.h5')\n",
        "# Laden des SavedModel-Modells (pb)\n",
        "# pb ist die typische Dateierweiterung für dieses Format\n",
        "# es werden auch die Verzeichnisse assets und variables angelegt\n",
        "new_model_pb = load_model(modellverzeichnis)\n",
        "prediction_h5 = new_model_h5.predict(test_images)\n",
        "prediction_pb = new_model_pb.predict(test_images)"
      ],
      "execution_count": 39,
      "outputs": []
    },
    {
      "cell_type": "code",
      "metadata": {
        "colab": {
          "base_uri": "https://localhost:8080/",
          "height": 294
        },
        "id": "bZV0JrlU5g2B",
        "outputId": "d440ded8-3238-410d-8326-d840a3cd6630"
      },
      "source": [
        "#Vergleich der Ergebnisse und Prüfung des trainierten Netzes\n",
        "import matplotlib.pyplot as plt\n",
        "import random\n",
        "randindex = random.randint(0,10000)\n",
        "#Die Funktion argmax() liefert uns den index des höchsten Werts des Ergebnisvektors\n",
        "h5_class = prediction_h5[randindex].argmax()\n",
        "pb_class = prediction_pb[randindex].argmax()\n",
        "plttitle = \"Testbild Nr. {} \\n (h5) Klasse: {} \\n (pb) Klasse:{}\".format(randindex,h5_class, pb_class)\n",
        "plt.imshow(test_images[randindex].reshape(28,28), cmap='gray')\n",
        "plt.title(plttitle)\n",
        "plt.axis('off')\n",
        "plt.show()"
      ],
      "execution_count": 57,
      "outputs": [
        {
          "output_type": "display_data",
          "data": {
            "image/png": "[encoded data removed]",
            "text/plain": [
              "<Figure size 432x288 with 1 Axes>"
            ]
          },
          "metadata": {
            "tags": [],
            "needs_background": "light"
          }
        }
      ]
    }
  ]
}