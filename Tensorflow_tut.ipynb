{
  "nbformat": 4,
  "nbformat_minor": 0,
  "metadata": {
    "colab": {
      "name": "Untitled2.ipynb",
      "provenance": [],
      "authorship_tag": "ABX9TyOs12hHDmCXC32rTADeEOax",
      "include_colab_link": true
    },
    "kernelspec": {
      "name": "python3",
      "display_name": "Python 3"
    },
    "language_info": {
      "name": "python"
    }
  },
  "cells": [
    {
      "cell_type": "markdown",
      "metadata": {
        "id": "view-in-github",
        "colab_type": "text"
      },
      "source": [
        "<a href=\"https://colab.research.google.com/github/konstihengge/Tensorflow_tutorial/blob/main/Tensorflow_tut.ipynb\" target=\"_parent\"><img src=\"https://colab.research.google.com/assets/colab-badge.svg\" alt=\"Open In Colab\"/></a>"
      ]
    },
    {
      "cell_type": "code",
      "metadata": {
        "colab": {
          "base_uri": "https://localhost:8080/"
        },
        "id": "nHpLe32vRxBC",
        "outputId": "3694371b-73c1-419d-c4b1-08532dbfa6fc"
      },
      "source": [
        "%tensorflow_version 2.x\n",
        "import tensorflow as tf\n",
        "print(tf.version)\n",
        "\n",
        "t = tf.ones([5,5,5,5])\n",
        "\n",
        "t = tf.reshape(t, [125, -1])\n"
      ],
      "execution_count": 4,
      "outputs": [
        {
          "output_type": "stream",
          "text": [
            "<module 'tensorflow._api.v2.version' from '/usr/local/lib/python3.7/dist-packages/tensorflow/_api/v2/version/__init__.py'>\n"
          ],
          "name": "stdout"
        }
      ]
    },
    {
      "cell_type": "code",
      "metadata": {
        "colab": {
          "base_uri": "https://localhost:8080/"
        },
        "id": "lCdzp5JqkrX4",
        "outputId": "ee3d578f-25d2-429b-d435-7d7eb37ef7b4"
      },
      "source": [
        "#Regression\n",
        "\n",
        "\n",
        "!pip install -q sklearn\n",
        "%tensorflow_version 2.x  # this line is not required unless you are in a notebook\n",
        "\n",
        "from __future__ import absolute_import, division, print_function, unicode_literals\n",
        "\n",
        "import numpy as np\n",
        "import pandas as pd\n",
        "import matplotlib.pyplot as plt\n",
        "from IPython.display import clear_output\n",
        "from six.moves import urllib\n",
        "\n",
        "import tensorflow.compat.v2.feature_column as fc\n",
        "\n",
        "import tensorflow as tf\n",
        "\n",
        "# Load dataset.\n",
        "dftrain = pd.read_csv('https://storage.googleapis.com/tf-datasets/titanic/train.csv') # training data\n",
        "dfeval = pd.read_csv('https://storage.googleapis.com/tf-datasets/titanic/eval.csv') # testing data\n",
        "print(dfeval.shape)\n",
        "y_train = dftrain.pop('survived')\n",
        "y_eval = dfeval.pop('survived')\n",
        "print(dftrain.loc[0], dftrain.loc[100]) # damit kann dann eine bestimmte Zeile im Datensatz ermittelt werden\n",
        "\n",
        "CATEGORICAL_COLUMNS = ['sex', 'n_siblings_spouses', 'parch', 'class', 'deck',\n",
        "                       'embark_town', 'alone']\n",
        "NUMERIC_COLUMNS = ['age', 'fare']\n",
        "\n",
        "\n",
        "#Feature Collums\n",
        "#------------------------------------------------------------------------------------------------------------------------\n",
        "feature_columns = []\n",
        "for feature_name in CATEGORICAL_COLUMNS:\n",
        "  vocabulary = dftrain[feature_name].unique()  # gets a list of all unique values from given feature column; es werden alle einzigartigen werte Herausgenommen\n",
        "  feature_columns.append(tf.feature_column.categorical_column_with_vocabulary_list(feature_name, vocabulary)) # fuegt alles in eine Zeile zusammen\n",
        "\n",
        "for feature_name in NUMERIC_COLUMNS:\n",
        "  feature_columns.append(tf.feature_column.numeric_column(feature_name, dtype=tf.float32))\n",
        "\n",
        "print(feature_columns)\n",
        "\n",
        "\n",
        "#Input Function\n",
        "#--------------------------------------------------------------------------------------------------------------------------\n",
        "def make_input_fn(data_df, label_df, num_epochs=10, shuffle=True, batch_size=32):\n",
        "  def input_function():  # inner function, this will be returned\n",
        "    ds = tf.data.Dataset.from_tensor_slices((dict(data_df), label_df))  # create tf.data.Dataset object with data and its label\n",
        "    if shuffle:\n",
        "      ds = ds.shuffle(1000)  # randomize order of data\n",
        "    ds = ds.batch(batch_size).repeat(num_epochs)  # split dataset into batches of 32 and repeat process for number of epochs\n",
        "    return ds  # return a batch of the dataset\n",
        "  return input_function  # return a function object for use\n",
        "\n",
        "train_input_fn = make_input_fn(dftrain, y_train)  # here we will call the input_function that was returned to us to get a dataset object we can feed to the model\n",
        "eval_input_fn = make_input_fn(dfeval, y_eval, num_epochs=1, shuffle=False)\n",
        "\n",
        "\n",
        "\n",
        "\n",
        "#Creating the model\n",
        "#-----------------------------------------------------------------------------------------------------------------------------\n",
        "linear_est = tf.estimator.LinearClassifier(feature_columns=feature_columns)\n",
        "# We create a linear estimtor by passing the feature columns we created earlier\n",
        "\n",
        "\n",
        "\n",
        "#Trining the model\n",
        "#------------------------------------------------------------------------------------------------------------------------------\n",
        "linear_est.train(train_input_fn)  # train\n",
        "result = linear_est.evaluate(eval_input_fn)  # get model metrics/stats by testing on tetsing data\n",
        "\n",
        "clear_output()  # clears consoke output\n",
        "print(result['accuracy'])  # the result variable is simply a dict of stats about our model\n",
        "print(result)\n",
        "\n",
        "\n",
        "\n"
      ],
      "execution_count": 2,
      "outputs": [
        {
          "output_type": "stream",
          "text": [
            "0.7537879\n",
            "{'accuracy': 0.7537879, 'accuracy_baseline': 0.625, 'auc': 0.83599627, 'auc_precision_recall': 0.77502847, 'average_loss': 0.47582766, 'label/mean': 0.375, 'loss': 0.465821, 'precision': 0.68085104, 'prediction/mean': 0.35308787, 'recall': 0.64646465, 'global_step': 200}\n"
          ],
          "name": "stdout"
        }
      ]
    },
    {
      "cell_type": "code",
      "metadata": {
        "colab": {
          "base_uri": "https://localhost:8080/"
        },
        "id": "i3vkJi2FF1VK",
        "outputId": "f1c55919-bef4-441f-a028-2988a0962416"
      },
      "source": [
        "result = list(linear_est.predict(eval_input_fn))\n",
        "print(dfeval.loc[4])\n",
        "print(y_eval.loc[4])\n",
        "print(result[4][\"probabilities\"][1]) #[1] bedeutet das es die Wahrscheinlichkeit zum überleben ist; [0] bedeuted wahrscheinlnichkeit das sterben"
      ],
      "execution_count": 16,
      "outputs": [
        {
          "output_type": "stream",
          "text": [
            "INFO:tensorflow:Calling model_fn.\n"
          ],
          "name": "stdout"
        },
        {
          "output_type": "stream",
          "text": [
            "/usr/local/lib/python3.7/dist-packages/tensorflow/python/keras/engine/base_layer_v1.py:1700: UserWarning: `layer.add_variable` is deprecated and will be removed in a future version. Please use `layer.add_weight` method instead.\n",
            "  warnings.warn('`layer.add_variable` is deprecated and '\n"
          ],
          "name": "stderr"
        },
        {
          "output_type": "stream",
          "text": [
            "INFO:tensorflow:Done calling model_fn.\n",
            "INFO:tensorflow:Graph was finalized.\n",
            "INFO:tensorflow:Restoring parameters from /tmp/tmpbqoxplu8/model.ckpt-200\n",
            "INFO:tensorflow:Running local_init_op.\n",
            "INFO:tensorflow:Done running local_init_op.\n",
            "sex                          male\n",
            "age                            34\n",
            "n_siblings_spouses              0\n",
            "parch                           0\n",
            "fare                           13\n",
            "class                      Second\n",
            "deck                            D\n",
            "embark_town           Southampton\n",
            "alone                           y\n",
            "Name: 4, dtype: object\n",
            "1\n",
            "0.20049953\n"
          ],
          "name": "stdout"
        }
      ]
    },
    {
      "cell_type": "markdown",
      "metadata": {
        "id": "EQEqyRCybzsv"
      },
      "source": [
        "**Classification**"
      ]
    },
    {
      "cell_type": "code",
      "metadata": {
        "colab": {
          "base_uri": "https://localhost:8080/"
        },
        "id": "njsLtbNoNbzm",
        "outputId": "382ac62a-4c0a-45b9-c1e3-efccd706e64d"
      },
      "source": [
        "#Classification\n",
        "\n",
        "\n",
        "\n",
        "%tensorflow_version 2.x\n",
        "\n",
        "from __future__ import absolute_import, division, print_function, unicode_literals\n",
        "\n",
        "\n",
        "import tensorflow as tf\n",
        "\n",
        "import pandas as pd\n",
        "\n",
        "\n",
        "#Dataset\n",
        "CSV_COLUMN_NAMES = ['SepalLength', 'SepalWidth', 'PetalLength', 'PetalWidth', 'Species']\n",
        "SPECIES = ['Setosa', 'Versicolor', 'Virginica']\n",
        "# Lets define some constants to help us later on\n",
        "\n",
        "train_path = tf.keras.utils.get_file(\n",
        "    \"iris_training.csv\", \"https://storage.googleapis.com/download.tensorflow.org/data/iris_training.csv\")\n",
        "test_path = tf.keras.utils.get_file(\n",
        "    \"iris_test.csv\", \"https://storage.googleapis.com/download.tensorflow.org/data/iris_test.csv\")\n",
        "\n",
        "train = pd.read_csv(train_path, names=CSV_COLUMN_NAMES, header=0)\n",
        "test = pd.read_csv(test_path, names=CSV_COLUMN_NAMES, header=0)\n",
        "# Here we use keras (a module inside of TensorFlow) to grab our datasets and read them into a pandas dataframe\n",
        "\n",
        "train_y = train.pop('Species')\n",
        "test_y = test.pop('Species')\n",
        "\n",
        "\n",
        "\n",
        "\n",
        "#Input function\n",
        "def input_fn(features, labels, training=True, batch_size=256):\n",
        "    # Convert the inputs to a Dataset.\n",
        "    dataset = tf.data.Dataset.from_tensor_slices((dict(features), labels))\n",
        "\n",
        "    # Shuffle and repeat if you are in training mode.\n",
        "    if training:\n",
        "        dataset = dataset.shuffle(1000).repeat()\n",
        "    \n",
        "    return dataset.batch(batch_size)\n",
        "\n",
        "#Feature Column\n",
        "my_feature_columns = []\n",
        "for key in train.keys():\n",
        "   my_feature_columns.append(tf.feature_column.numeric_column(key=key))\n",
        "\n",
        "\n",
        "#Building the modul\n",
        "# Build a DNN with 2 hidden layers with 30 and 10 hidden nodes each.\n",
        "classifier = tf.estimator.DNNClassifier(\n",
        "    feature_columns=my_feature_columns,\n",
        "    # Two hidden layers of 30 and 10 nodes respectively.\n",
        "    hidden_units=[30, 10],\n",
        "    # The model must choose between 3 classes.\n",
        "    n_classes=3)\n",
        "\n",
        "\n",
        "\n",
        "#Traininig\n",
        "classifier.train(\n",
        "    input_fn=lambda: input_fn(train, train_y, training=True), # lambda funktion erstellt, im Anschluss steht, was die Funktion macht), Lambda Funktin ersetzt in der Input-Function die äußerer Fuktion??\n",
        "    steps=5000)\n",
        "# We include a lambda to avoid creating an inner function previously\n",
        "\n"
      ],
      "execution_count": 25,
      "outputs": [
        {
          "output_type": "stream",
          "text": [
            "INFO:tensorflow:Using default config.\n",
            "WARNING:tensorflow:Using temporary folder as model directory: /tmp/tmpxqwhckid\n",
            "INFO:tensorflow:Using config: {'_model_dir': '/tmp/tmpxqwhckid', '_tf_random_seed': None, '_save_summary_steps': 100, '_save_checkpoints_steps': None, '_save_checkpoints_secs': 600, '_session_config': allow_soft_placement: true\n",
            "graph_options {\n",
            "  rewrite_options {\n",
            "    meta_optimizer_iterations: ONE\n",
            "  }\n",
            "}\n",
            ", '_keep_checkpoint_max': 5, '_keep_checkpoint_every_n_hours': 10000, '_log_step_count_steps': 100, '_train_distribute': None, '_device_fn': None, '_protocol': None, '_eval_distribute': None, '_experimental_distribute': None, '_experimental_max_worker_delay_secs': None, '_session_creation_timeout_secs': 7200, '_checkpoint_save_graph_def': True, '_service': None, '_cluster_spec': ClusterSpec({}), '_task_type': 'worker', '_task_id': 0, '_global_id_in_cluster': 0, '_master': '', '_evaluation_master': '', '_is_chief': True, '_num_ps_replicas': 0, '_num_worker_replicas': 1}\n",
            "INFO:tensorflow:Calling model_fn.\n",
            "INFO:tensorflow:Done calling model_fn.\n",
            "INFO:tensorflow:Create CheckpointSaverHook.\n",
            "INFO:tensorflow:Graph was finalized.\n",
            "INFO:tensorflow:Running local_init_op.\n",
            "INFO:tensorflow:Done running local_init_op.\n",
            "INFO:tensorflow:Calling checkpoint listeners before saving checkpoint 0...\n",
            "INFO:tensorflow:Saving checkpoints for 0 into /tmp/tmpxqwhckid/model.ckpt.\n",
            "INFO:tensorflow:Calling checkpoint listeners after saving checkpoint 0...\n",
            "INFO:tensorflow:loss = 1.8244748, step = 0\n",
            "INFO:tensorflow:global_step/sec: 322.025\n",
            "INFO:tensorflow:loss = 0.95610344, step = 100 (0.320 sec)\n",
            "INFO:tensorflow:global_step/sec: 428.806\n",
            "INFO:tensorflow:loss = 0.8462763, step = 200 (0.226 sec)\n",
            "INFO:tensorflow:global_step/sec: 452.699\n",
            "INFO:tensorflow:loss = 0.7892519, step = 300 (0.220 sec)\n",
            "INFO:tensorflow:global_step/sec: 460.275\n",
            "INFO:tensorflow:loss = 0.74534166, step = 400 (0.220 sec)\n",
            "WARNING:tensorflow:It seems that global step (tf.train.get_global_step) has not been increased. Current value (could be stable): 402 vs previous value: 402. You could increase the global step by passing tf.train.get_global_step() to Optimizer.apply_gradients or Optimizer.minimize.\n",
            "INFO:tensorflow:global_step/sec: 427.489\n",
            "INFO:tensorflow:loss = 0.7015319, step = 500 (0.237 sec)\n",
            "INFO:tensorflow:global_step/sec: 406.563\n",
            "INFO:tensorflow:loss = 0.6882804, step = 600 (0.241 sec)\n",
            "INFO:tensorflow:global_step/sec: 428.583\n",
            "INFO:tensorflow:loss = 0.65089893, step = 700 (0.233 sec)\n",
            "INFO:tensorflow:global_step/sec: 412.365\n",
            "INFO:tensorflow:loss = 0.64815503, step = 800 (0.245 sec)\n",
            "INFO:tensorflow:global_step/sec: 345.748\n",
            "INFO:tensorflow:loss = 0.6255417, step = 900 (0.289 sec)\n",
            "INFO:tensorflow:global_step/sec: 331.764\n",
            "INFO:tensorflow:loss = 0.5955405, step = 1000 (0.300 sec)\n",
            "INFO:tensorflow:global_step/sec: 402.723\n",
            "INFO:tensorflow:loss = 0.6040957, step = 1100 (0.250 sec)\n",
            "INFO:tensorflow:global_step/sec: 364.233\n",
            "INFO:tensorflow:loss = 0.58064055, step = 1200 (0.276 sec)\n",
            "INFO:tensorflow:global_step/sec: 372.784\n",
            "INFO:tensorflow:loss = 0.5695968, step = 1300 (0.269 sec)\n",
            "INFO:tensorflow:global_step/sec: 427.278\n",
            "INFO:tensorflow:loss = 0.54829025, step = 1400 (0.233 sec)\n",
            "INFO:tensorflow:global_step/sec: 438.983\n",
            "INFO:tensorflow:loss = 0.54412436, step = 1500 (0.227 sec)\n",
            "INFO:tensorflow:global_step/sec: 448.923\n",
            "INFO:tensorflow:loss = 0.5247433, step = 1600 (0.224 sec)\n",
            "INFO:tensorflow:global_step/sec: 417.547\n",
            "INFO:tensorflow:loss = 0.5423452, step = 1700 (0.239 sec)\n",
            "INFO:tensorflow:global_step/sec: 408.897\n",
            "INFO:tensorflow:loss = 0.52276707, step = 1800 (0.244 sec)\n",
            "INFO:tensorflow:global_step/sec: 421.991\n",
            "INFO:tensorflow:loss = 0.52076244, step = 1900 (0.237 sec)\n",
            "INFO:tensorflow:global_step/sec: 422.002\n",
            "INFO:tensorflow:loss = 0.5110679, step = 2000 (0.237 sec)\n",
            "INFO:tensorflow:global_step/sec: 399.245\n",
            "INFO:tensorflow:loss = 0.49771115, step = 2100 (0.251 sec)\n",
            "INFO:tensorflow:global_step/sec: 376.142\n",
            "INFO:tensorflow:loss = 0.48261437, step = 2200 (0.263 sec)\n",
            "INFO:tensorflow:global_step/sec: 425.493\n",
            "INFO:tensorflow:loss = 0.49950388, step = 2300 (0.234 sec)\n",
            "INFO:tensorflow:global_step/sec: 423.35\n",
            "INFO:tensorflow:loss = 0.48018065, step = 2400 (0.237 sec)\n",
            "INFO:tensorflow:global_step/sec: 423.14\n",
            "INFO:tensorflow:loss = 0.4691311, step = 2500 (0.236 sec)\n",
            "INFO:tensorflow:global_step/sec: 409.036\n",
            "INFO:tensorflow:loss = 0.47358885, step = 2600 (0.245 sec)\n",
            "INFO:tensorflow:global_step/sec: 413.839\n",
            "INFO:tensorflow:loss = 0.46959823, step = 2700 (0.241 sec)\n",
            "INFO:tensorflow:global_step/sec: 364.401\n",
            "INFO:tensorflow:loss = 0.46848553, step = 2800 (0.278 sec)\n",
            "INFO:tensorflow:global_step/sec: 432.771\n",
            "INFO:tensorflow:loss = 0.46604127, step = 2900 (0.234 sec)\n",
            "INFO:tensorflow:global_step/sec: 435.588\n",
            "INFO:tensorflow:loss = 0.45612046, step = 3000 (0.227 sec)\n",
            "INFO:tensorflow:global_step/sec: 395.645\n",
            "INFO:tensorflow:loss = 0.4514721, step = 3100 (0.250 sec)\n",
            "INFO:tensorflow:global_step/sec: 418.338\n",
            "INFO:tensorflow:loss = 0.43990272, step = 3200 (0.241 sec)\n",
            "INFO:tensorflow:global_step/sec: 398.065\n",
            "INFO:tensorflow:loss = 0.4500746, step = 3300 (0.254 sec)\n",
            "INFO:tensorflow:global_step/sec: 367.581\n",
            "INFO:tensorflow:loss = 0.44574192, step = 3400 (0.269 sec)\n",
            "INFO:tensorflow:global_step/sec: 390.002\n",
            "INFO:tensorflow:loss = 0.4395976, step = 3500 (0.254 sec)\n",
            "INFO:tensorflow:global_step/sec: 369.769\n",
            "INFO:tensorflow:loss = 0.4340328, step = 3600 (0.273 sec)\n",
            "INFO:tensorflow:global_step/sec: 390.997\n",
            "INFO:tensorflow:loss = 0.4277885, step = 3700 (0.256 sec)\n",
            "INFO:tensorflow:global_step/sec: 414.73\n",
            "INFO:tensorflow:loss = 0.40365672, step = 3800 (0.240 sec)\n",
            "INFO:tensorflow:global_step/sec: 429.785\n",
            "INFO:tensorflow:loss = 0.42115313, step = 3900 (0.234 sec)\n",
            "INFO:tensorflow:global_step/sec: 451.346\n",
            "INFO:tensorflow:loss = 0.42131513, step = 4000 (0.218 sec)\n",
            "INFO:tensorflow:global_step/sec: 455.074\n",
            "INFO:tensorflow:loss = 0.41353512, step = 4100 (0.223 sec)\n",
            "INFO:tensorflow:global_step/sec: 368.741\n",
            "INFO:tensorflow:loss = 0.41160634, step = 4200 (0.271 sec)\n",
            "INFO:tensorflow:global_step/sec: 433.554\n",
            "INFO:tensorflow:loss = 0.40117425, step = 4300 (0.232 sec)\n",
            "INFO:tensorflow:global_step/sec: 409.254\n",
            "INFO:tensorflow:loss = 0.4061801, step = 4400 (0.240 sec)\n",
            "INFO:tensorflow:global_step/sec: 469.423\n",
            "INFO:tensorflow:loss = 0.40242815, step = 4500 (0.217 sec)\n",
            "INFO:tensorflow:global_step/sec: 459.484\n",
            "INFO:tensorflow:loss = 0.39725345, step = 4600 (0.217 sec)\n",
            "INFO:tensorflow:global_step/sec: 431.078\n",
            "INFO:tensorflow:loss = 0.3810246, step = 4700 (0.233 sec)\n",
            "INFO:tensorflow:global_step/sec: 448.541\n",
            "INFO:tensorflow:loss = 0.38928413, step = 4800 (0.222 sec)\n",
            "INFO:tensorflow:global_step/sec: 444.093\n",
            "INFO:tensorflow:loss = 0.39005983, step = 4900 (0.225 sec)\n",
            "INFO:tensorflow:Calling checkpoint listeners before saving checkpoint 5000...\n",
            "INFO:tensorflow:Saving checkpoints for 5000 into /tmp/tmpxqwhckid/model.ckpt.\n",
            "INFO:tensorflow:Calling checkpoint listeners after saving checkpoint 5000...\n",
            "INFO:tensorflow:Loss for final step: 0.38359958.\n"
          ],
          "name": "stdout"
        },
        {
          "output_type": "execute_result",
          "data": {
            "text/plain": [
              "<tensorflow_estimator.python.estimator.canned.dnn.DNNClassifierV2 at 0x7f5bc18c5290>"
            ]
          },
          "metadata": {
            "tags": []
          },
          "execution_count": 25
        }
      ]
    },
    {
      "cell_type": "code",
      "metadata": {
        "colab": {
          "base_uri": "https://localhost:8080/"
        },
        "id": "nZMM71i_WJTV",
        "outputId": "37c137a3-0864-4938-9e4f-cfa00791c3a7"
      },
      "source": [
        "eval_result = classifier.evaluate(input_fn=lambda: input_fn(test, test_y, training=False))\n",
        "print('\\nTest set accuracy: {accuracy:0.3f}\\n'.format(**eval_result))"
      ],
      "execution_count": 26,
      "outputs": [
        {
          "output_type": "stream",
          "text": [
            "INFO:tensorflow:Calling model_fn.\n",
            "INFO:tensorflow:Done calling model_fn.\n",
            "INFO:tensorflow:Starting evaluation at 2021-08-03T09:29:42\n",
            "INFO:tensorflow:Graph was finalized.\n",
            "INFO:tensorflow:Restoring parameters from /tmp/tmpxqwhckid/model.ckpt-5000\n",
            "INFO:tensorflow:Running local_init_op.\n",
            "INFO:tensorflow:Done running local_init_op.\n",
            "INFO:tensorflow:Inference Time : 0.28653s\n",
            "INFO:tensorflow:Finished evaluation at 2021-08-03-09:29:42\n",
            "INFO:tensorflow:Saving dict for global step 5000: accuracy = 0.8666667, average_loss = 0.45696986, global_step = 5000, loss = 0.45696986\n",
            "INFO:tensorflow:Saving 'checkpoint_path' summary for global step 5000: /tmp/tmpxqwhckid/model.ckpt-5000\n",
            "\n",
            "Test set accuracy: 0.867\n",
            "\n"
          ],
          "name": "stdout"
        }
      ]
    },
    {
      "cell_type": "code",
      "metadata": {
        "colab": {
          "base_uri": "https://localhost:8080/"
        },
        "id": "KIPmmXWbWd6r",
        "outputId": "649b9082-531b-437b-8e98-42840555ae4d"
      },
      "source": [
        "#Prediction\n",
        "def input_fn(features, batch_size=256):\n",
        "    # Convert the inputs to a Dataset without labels.\n",
        "    return tf.data.Dataset.from_tensor_slices(dict(features)).batch(batch_size) # gibt keine Labels  \n",
        "\n",
        "features = ['SepalLength', 'SepalWidth', 'PetalLength', 'PetalWidth']\n",
        "predict = {} # hier kann ein Datensatz eingefuegt werden\n",
        "\n",
        "print(\"Please type numeric values as prompted.\")\n",
        "for feature in features:\n",
        "  valid = True\n",
        "  while valid: \n",
        "    val = input(feature + \": \")\n",
        "    if not val.isdigit(): valid = False\n",
        "\n",
        "  predict[feature] = [float(val)]   #bis hier werden alle features abgefragt und die Werte eingegeben, bis es keine Features mehr gibt\n",
        "\n",
        "predictions = classifier.predict(input_fn=lambda: input_fn(predict))\n",
        "for pred_dict in predictions:\n",
        "    print(pred_dict)\n",
        "    class_id = pred_dict['class_ids'][0]\n",
        "    probability = pred_dict['probabilities'][class_id]\n",
        "\n",
        "    print('Prediction is \"{}\" ({:.1f}%)'.format(\n",
        "        SPECIES[class_id], 100 * probability))\n",
        "    \n",
        "\n",
        "\n",
        "\n",
        "  # Here is some example input and expected classes you can try above\n",
        "expected = ['Setosa', 'Versicolor', 'Virginica']\n",
        "predict_x = {\n",
        "    'SepalLength': [5.1, 5.9, 6.9],\n",
        "    'SepalWidth': [3.3, 3.0, 3.1],\n",
        "    'PetalLength': [1.7, 4.2, 5.4],\n",
        "    'PetalWidth': [0.5, 1.5, 2.1],\n",
        "}"
      ],
      "execution_count": 30,
      "outputs": [
        {
          "output_type": "stream",
          "text": [
            "Please type numeric values as prompted.\n",
            "SepalLength: 5.1\n",
            "SepalWidth: 3.3\n",
            "PetalLength: 1.7\n",
            "PetalWidth: 0.5\n",
            "INFO:tensorflow:Calling model_fn.\n",
            "INFO:tensorflow:Done calling model_fn.\n",
            "INFO:tensorflow:Graph was finalized.\n",
            "INFO:tensorflow:Restoring parameters from /tmp/tmpxqwhckid/model.ckpt-5000\n",
            "INFO:tensorflow:Running local_init_op.\n",
            "INFO:tensorflow:Done running local_init_op.\n",
            "{'logits': array([ 1.172038 , -1.2870634, -2.1041336], dtype=float32), 'probabilities': array([0.89024657, 0.07612656, 0.03362691], dtype=float32), 'class_ids': array([0]), 'classes': array([b'0'], dtype=object), 'all_class_ids': array([0, 1, 2], dtype=int32), 'all_classes': array([b'0', b'1', b'2'], dtype=object)}\n",
            "Prediction is \"Setosa\" (89.0%)\n"
          ],
          "name": "stdout"
        }
      ]
    },
    {
      "cell_type": "markdown",
      "metadata": {
        "id": "5K7yWMGVYwe-"
      },
      "source": [
        ""
      ]
    },
    {
      "cell_type": "markdown",
      "metadata": {
        "id": "hnEglvQ4b4w_"
      },
      "source": [
        "**Clustering**"
      ]
    },
    {
      "cell_type": "code",
      "metadata": {
        "id": "RV6orRNBb7xF"
      },
      "source": [
        ""
      ],
      "execution_count": null,
      "outputs": []
    }
  ]
}